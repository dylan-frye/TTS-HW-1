{
 "cells": [
  {
   "cell_type": "markdown",
   "id": "25335322",
   "metadata": {},
   "source": [
    "# Module 1 HW"
   ]
  },
  {
   "cell_type": "markdown",
   "id": "4c1fb5a3",
   "metadata": {},
   "source": [
    "1. Accept the user's first and last name and print them in reverse order with a space between them"
   ]
  },
  {
   "cell_type": "code",
   "execution_count": 3,
   "id": "cdfcd4f8",
   "metadata": {},
   "outputs": [
    {
     "name": "stdout",
     "output_type": "stream",
     "text": [
      "Input your First Name :  Dylan\n",
      "Input your Last Name :  Frye\n",
      "Hello Frye Dylan\n"
     ]
    }
   ],
   "source": [
    "x = 'Dylan'\n",
    "print('Input your First Name : ', x)\n",
    "y = 'Frye'\n",
    "print('Input your Last Name : ', y)\n",
    "print('Hello', y, x)"
   ]
  },
  {
   "cell_type": "markdown",
   "id": "f3fb42d0",
   "metadata": {},
   "source": [
    "2. Accept an integer (n) input from the user and compute the value of n+nn+nnn. For example if n=4 then n + nn + nnn = 4 + 44 + 444 = 492\n"
   ]
  },
  {
   "cell_type": "code",
   "execution_count": 4,
   "id": "a1e25b16",
   "metadata": {},
   "outputs": [
    {
     "name": "stdout",
     "output_type": "stream",
     "text": [
      "Input an Integer:  4\n",
      "492\n"
     ]
    }
   ],
   "source": [
    "n = 4\n",
    "print ('Input an Integer: ', n)\n",
    "n1 = str(n)\n",
    "n2 = n1 + n1\n",
    "n3 = n1 + n1 + n1\n",
    "n4 = n + int(n2) + int(n3)\n",
    "print (n4)"
   ]
  },
  {
   "cell_type": "markdown",
   "id": "200303a6",
   "metadata": {},
   "source": [
    "3. Ask the user \"What country are you from?\" then print the following statement: \"I have heard that [input] is a beautiful country!\""
   ]
  },
  {
   "cell_type": "code",
   "execution_count": 5,
   "id": "441b95b2",
   "metadata": {},
   "outputs": [
    {
     "name": "stdout",
     "output_type": "stream",
     "text": [
      "What country are you from?\n",
      "I have heard that USA is a beautiful country!\n"
     ]
    }
   ],
   "source": [
    "print('What country are you from?')\n",
    "c = 'USA'\n",
    "print('I have heard that', c, 'is a beautiful country!')"
   ]
  },
  {
   "cell_type": "markdown",
   "id": "0bc368e9",
   "metadata": {},
   "source": [
    "4. What is the output of the following Python code\n",
    "\n",
    "x = 10\n",
    "y = 50\n",
    "if (x ** 2 > 100 and y < 100):\n",
    "    print(x, y)"
   ]
  },
  {
   "cell_type": "code",
   "execution_count": 15,
   "id": "6e3db60b",
   "metadata": {},
   "outputs": [],
   "source": [
    "x = 10\n",
    "y = 50\n",
    "if (x ** 2 > 100 and y < 100):\n",
    "    print(x, y)\n",
    "#Output is none"
   ]
  },
  {
   "cell_type": "markdown",
   "id": "8850ba24",
   "metadata": {},
   "source": [
    "5. What is the output of the following addition (+) operator, and why does this code chunk execute this way?\n",
    "\n",
    "a = [10, 20]\n",
    "b = a\n",
    "b += [30, 40]\n",
    "print(a)\n",
    "print(b)"
   ]
  },
  {
   "cell_type": "code",
   "execution_count": 16,
   "id": "c19b9c66",
   "metadata": {},
   "outputs": [
    {
     "name": "stdout",
     "output_type": "stream",
     "text": [
      "[10, 20, 30, 40]\n",
      "[10, 20, 30, 40]\n"
     ]
    }
   ],
   "source": [
    "a = [10, 20]\n",
    "b = a\n",
    "b += [30, 40]\n",
    "print(a)\n",
    "print(b)\n",
    "#Because b and a reference the same object, it changes both results"
   ]
  },
  {
   "cell_type": "markdown",
   "id": "76fdcd40",
   "metadata": {},
   "source": [
    "6. What is the output of the following code and what arithmetic operators is being used here? print(2%6)"
   ]
  },
  {
   "cell_type": "code",
   "execution_count": 13,
   "id": "ca9bc098",
   "metadata": {},
   "outputs": [
    {
     "name": "stdout",
     "output_type": "stream",
     "text": [
      "2\n"
     ]
    }
   ],
   "source": [
    "print(2%6)\n",
    "#Modulus is being used here"
   ]
  },
  {
   "cell_type": "markdown",
   "id": "d02421d6",
   "metadata": {},
   "source": [
    "7. What is the output of the following code and what arithmetic operators are used here? print(2 * 3 ** 3 * 4)"
   ]
  },
  {
   "cell_type": "code",
   "execution_count": 14,
   "id": "059a5b8d",
   "metadata": {},
   "outputs": [
    {
     "name": "stdout",
     "output_type": "stream",
     "text": [
      "216\n"
     ]
    }
   ],
   "source": [
    "print(2 * 3 ** 3 * 4)\n",
    "#Operator and exponent are being used here"
   ]
  },
  {
   "cell_type": "markdown",
   "id": "7792aa54",
   "metadata": {},
   "source": [
    "8. What is a text editor?"
   ]
  },
  {
   "cell_type": "markdown",
   "id": "67c4d664",
   "metadata": {},
   "source": [
    "A program that edits plain text"
   ]
  },
  {
   "cell_type": "markdown",
   "id": "d9d8e1ac",
   "metadata": {},
   "source": [
    "9. What is python?"
   ]
  },
  {
   "cell_type": "markdown",
   "id": "2b632f55",
   "metadata": {},
   "source": [
    "An object oreinted programming language. "
   ]
  },
  {
   "cell_type": "markdown",
   "id": "14d7fd74",
   "metadata": {},
   "source": [
    "10. What is jupyter notebook, what type of python environment is it, and what alternatives are there to jupyter notebook?"
   ]
  },
  {
   "cell_type": "markdown",
   "id": "4e7667aa",
   "metadata": {},
   "source": [
    "Jupyter Notebook is a computational notebook, in a web-based internet development environment (IDE). There are many alternatives to Jupyter Notebook such as RStudio,RodeoIDE, etc. "
   ]
  },
  {
   "cell_type": "code",
   "execution_count": null,
   "id": "74cd3eef",
   "metadata": {},
   "outputs": [],
   "source": []
  }
 ],
 "metadata": {
  "kernelspec": {
   "display_name": "Python 3 (ipykernel)",
   "language": "python",
   "name": "python3"
  },
  "language_info": {
   "codemirror_mode": {
    "name": "ipython",
    "version": 3
   },
   "file_extension": ".py",
   "mimetype": "text/x-python",
   "name": "python",
   "nbconvert_exporter": "python",
   "pygments_lexer": "ipython3",
   "version": "3.9.12"
  }
 },
 "nbformat": 4,
 "nbformat_minor": 5
}
